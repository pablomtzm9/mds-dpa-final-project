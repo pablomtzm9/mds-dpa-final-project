{
 "cells": [
  {
   "cell_type": "markdown",
   "metadata": {},
   "source": [
    "# Spark Notebook\n",
    "\n",
    "@roman, pablo, javier\n",
    "\n",
    "19 May, 2024"
   ]
  },
  {
   "cell_type": "markdown",
   "metadata": {},
   "source": [
    "---\n",
    "# Settings"
   ]
  },
  {
   "cell_type": "code",
   "execution_count": null,
   "metadata": {},
   "outputs": [],
   "source": [
    "from pyspark.sql import SparkSession\n",
    "import pyspark.sql.functions as F\n",
    "from pyspark.sql.functions import col\n",
    "from pyspark.sql.window import Window"
   ]
  },
  {
   "cell_type": "code",
   "execution_count": null,
   "metadata": {},
   "outputs": [],
   "source": [
    "# init spark session\n",
    "spark = SparkSession.builder.appName('telecom').getOrCreate()"
   ]
  },
  {
   "cell_type": "code",
   "execution_count": null,
   "metadata": {},
   "outputs": [],
   "source": [
    "# bucket\n",
    "NAME = 'javier'\n",
    "BUCKET = f\"s3://itam-analytics-{NAME}\"\n",
    "FOLDER = 'telecom'\n",
    "\n",
    "SAVE_BUCKET = 'telecom-outputs'"
   ]
  },
  {
   "cell_type": "markdown",
   "metadata": {},
   "source": [
    "---\n",
    "# Data"
   ]
  },
  {
   "cell_type": "markdown",
   "metadata": {},
   "source": [
    "## S1: Read Data"
   ]
  },
  {
   "cell_type": "code",
   "execution_count": null,
   "metadata": {},
   "outputs": [],
   "source": [
    "# read parquet from s3\n",
    "df_telecom = spark.read.parquet(f\"{BUCKET}/{FOLDER}\")\n",
    "\n",
    "# look columns\n",
    "df_telecom.printSchema()"
   ]
  },
  {
   "cell_type": "code",
   "execution_count": null,
   "metadata": {},
   "outputs": [],
   "source": [
    "# see number of rows\n",
    "df_telecom.count()"
   ]
  },
  {
   "cell_type": "code",
   "execution_count": null,
   "metadata": {},
   "outputs": [],
   "source": [
    "# see number of nulls in column \"subregion\"\n",
    "df_telecom.filter(col(\"locality\").isNull()).count()"
   ]
  },
  {
   "cell_type": "markdown",
   "metadata": {},
   "source": [
    "---\n",
    "# Users Demographics"
   ]
  },
  {
   "cell_type": "markdown",
   "metadata": {},
   "source": [
    "## S1: Where does each user lives"
   ]
  },
  {
   "cell_type": "code",
   "execution_count": null,
   "metadata": {},
   "outputs": [],
   "source": [
    "# for each device_id get the postal_code with the most occurrences and get the longitude and latitude associated with that postal_code\n",
    "df_user_location = (\n",
    "    df_telecom\n",
    "    .select(\"device_id\", \"postal_code\", \"raw_sim_operator_name\", \"client_longitude\", \"client_latitude\")\n",
    "    .withColumn(\"count_postal_code\", F.count(\"postal_code\").over(Window.partitionBy(\"device_id\", \"postal_code\")))\n",
    "    .withColumn(\"rank\", F.rank().over(Window.partitionBy(\"device_id\").orderBy(col(\"count_postal_code\").desc())))\n",
    "    .filter(col(\"rank\") == 1)\n",
    ")\n",
    "\n",
    "# show\n",
    "df_user_location.show()"
   ]
  },
  {
   "cell_type": "code",
   "execution_count": null,
   "metadata": {},
   "outputs": [],
   "source": [
    "# get dataframe of user and postal_code\n",
    "df_user_locality = df_telecom.groupBy(\"device_id\", \"raw_sim_operator_name\", \"postal_code\").count()\n",
    "\n",
    "# get the most visited postal_code per user as dataframe\n",
    "df_user_location = (\n",
    "    df_user_locality\n",
    "    .withColumn(\"rank\", F.row_number().over(Window.partitionBy(\"device_id\").orderBy(col(\"count\").desc())))\n",
    "    .filter(col(\"rank\") == 1)\n",
    "    .drop(\"rank\", \"count\")\n",
    "    )\n",
    "\n",
    "# show\n",
    "df_user_location.show(10)"
   ]
  },
  {
   "cell_type": "code",
   "execution_count": null,
   "metadata": {},
   "outputs": [],
   "source": []
  },
  {
   "cell_type": "markdown",
   "metadata": {},
   "source": [
    "---\n",
    "# Write"
   ]
  },
  {
   "cell_type": "code",
   "execution_count": null,
   "metadata": {},
   "outputs": [],
   "source": [
    "# save table to parquet\n",
    "df_location_counts.write.parquet(f\"{BUCKET}/{FOLDER}/location_counts\")"
   ]
  },
  {
   "cell_type": "code",
   "execution_count": null,
   "metadata": {},
   "outputs": [],
   "source": []
  },
  {
   "cell_type": "code",
   "execution_count": null,
   "metadata": {},
   "outputs": [],
   "source": []
  },
  {
   "cell_type": "markdown",
   "metadata": {},
   "source": []
  },
  {
   "cell_type": "markdown",
   "metadata": {},
   "source": [
    "---\n",
    "# Sandbox"
   ]
  },
  {
   "cell_type": "code",
   "execution_count": null,
   "metadata": {},
   "outputs": [],
   "source": [
    "# count number of unique localities\n",
    "df_location_counts.select(\"locality\").distinct().count()"
   ]
  },
  {
   "cell_type": "code",
   "execution_count": null,
   "metadata": {},
   "outputs": [],
   "source": []
  },
  {
   "cell_type": "code",
   "execution_count": null,
   "metadata": {},
   "outputs": [],
   "source": []
  },
  {
   "cell_type": "code",
   "execution_count": null,
   "metadata": {},
   "outputs": [],
   "source": []
  }
 ],
 "metadata": {
  "language_info": {
   "name": "python"
  }
 },
 "nbformat": 4,
 "nbformat_minor": 2
}
