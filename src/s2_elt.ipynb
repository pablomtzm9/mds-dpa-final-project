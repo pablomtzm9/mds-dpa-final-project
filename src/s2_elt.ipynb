{
 "cells": [
  {
   "cell_type": "markdown",
   "metadata": {},
   "source": [
    "# Spark Notebook\n",
    "\n",
    "@roman, pablo, javier\n",
    "\n",
    "19 May, 2024"
   ]
  },
  {
   "cell_type": "markdown",
   "metadata": {},
   "source": [
    "---\n",
    "# Settings"
   ]
  },
  {
   "cell_type": "code",
   "execution_count": null,
   "metadata": {},
   "outputs": [],
   "source": [
    "from pyspark.sql import SparkSession\n",
    "import pyspark.sql.functions as F\n",
    "from pyspark.sql.functions import col\n",
    "from pyspark.sql.window import Window"
   ]
  },
  {
   "cell_type": "code",
   "execution_count": null,
   "metadata": {},
   "outputs": [],
   "source": [
    "# init spark session\n",
    "spark = SparkSession.builder.appName('telecom').getOrCreate()"
   ]
  },
  {
   "cell_type": "code",
   "execution_count": null,
   "metadata": {},
   "outputs": [],
   "source": [
    "# bucket\n",
    "NAME = 'javier'\n",
    "BUCKET = f\"s3://itam-analytics-{NAME}\"\n",
    "FOLDER = 'telecom'\n",
    "\n",
    "SAVE_BUCKET = 'telecom-outputs'"
   ]
  },
  {
   "cell_type": "markdown",
   "metadata": {},
   "source": [
    "---\n",
    "# Data"
   ]
  },
  {
   "cell_type": "markdown",
   "metadata": {},
   "source": [
    "## S1: Read Data"
   ]
  },
  {
   "cell_type": "code",
   "execution_count": null,
   "metadata": {},
   "outputs": [],
   "source": [
    "# read parquet from s3\n",
    "df_telecom = spark.read.parquet(f\"{BUCKET}/{FOLDER}\")\n",
    "\n",
    "# look columns\n",
    "df_telecom.printSchema()"
   ]
  },
  {
   "cell_type": "code",
   "execution_count": null,
   "metadata": {},
   "outputs": [],
   "source": [
    "# see number of rows\n",
    "df_telecom.count()"
   ]
  },
  {
   "cell_type": "code",
   "execution_count": null,
   "metadata": {},
   "outputs": [],
   "source": [
    "# see number of nulls in column \"subregion\"\n",
    "df_telecom.filter(col(\"locality\").isNull()).count()"
   ]
  },
  {
   "cell_type": "markdown",
   "metadata": {},
   "source": [
    "---\n",
    "# Users Demographics"
   ]
  },
  {
   "cell_type": "markdown",
   "metadata": {},
   "source": [
    "## S1: Where does each user lives"
   ]
  },
  {
   "cell_type": "code",
   "execution_count": null,
   "metadata": {},
   "outputs": [],
   "source": [
    "# get the most visited postal_code per user as dataframe\n",
    "df_user_location = (\n",
    "    df_telecom\n",
    "    .groupBy(\"device_id\", \"raw_sim_operator_name\", \"postal_code\").count()\n",
    "    .withColumn(\"rank\", F.row_number().over(Window.partitionBy(\"device_id\").orderBy(col(\"count\").desc())))\n",
    "    .filter(col(\"rank\") == 1)\n",
    "    .drop(\"rank\", \"count\")\n",
    "    )"
   ]
  },
  {
   "cell_type": "code",
   "execution_count": null,
   "metadata": {},
   "outputs": [],
   "source": [
    "# for each user get distinct rows of device_id, postal_code, raw_sim_operator_name\n",
    "df_lon_lat = (\n",
    "    df_telecom\n",
    "    .select(\"device_id\", \"postal_code\", \"raw_sim_operator_name\", \"client_longitude\", \"client_latitude\")\n",
    "    .dropDuplicates(\n",
    "        subset=[\"device_id\", \"postal_code\", \"raw_sim_operator_name\"]\n",
    "    )\n",
    ")"
   ]
  },
  {
   "cell_type": "code",
   "execution_count": null,
   "metadata": {},
   "outputs": [],
   "source": [
    "# join both dataframes\n",
    "df_user_location = (\n",
    "    df_user_location\n",
    "    .join(df_lon_lat, [\"device_id\", \"postal_code\", \"raw_sim_operator_name\"], \"inner\")\n",
    ")\n",
    "\n",
    "# show\n",
    "df_user_location.show()"
   ]
  },
  {
   "cell_type": "markdown",
   "metadata": {},
   "source": [
    "---\n",
    "# Write"
   ]
  },
  {
   "cell_type": "code",
   "execution_count": null,
   "metadata": {},
   "outputs": [],
   "source": [
    "# save table to parquet\n",
    "df_user_location.write.parquet(f\"{BUCKET}/{SAVE_BUCKET}/user_location\", mode=\"overwrite\")"
   ]
  },
  {
   "cell_type": "markdown",
   "metadata": {},
   "source": [
    "---\n",
    "# Sandbox"
   ]
  },
  {
   "cell_type": "code",
   "execution_count": null,
   "metadata": {},
   "outputs": [],
   "source": [
    "# count number of unique localities\n",
    "df_location_counts.select(\"locality\").distinct().count()"
   ]
  },
  {
   "cell_type": "code",
   "execution_count": null,
   "metadata": {},
   "outputs": [],
   "source": []
  },
  {
   "cell_type": "code",
   "execution_count": null,
   "metadata": {},
   "outputs": [],
   "source": []
  },
  {
   "cell_type": "code",
   "execution_count": null,
   "metadata": {},
   "outputs": [],
   "source": []
  }
 ],
 "metadata": {
  "language_info": {
   "name": "python"
  }
 },
 "nbformat": 4,
 "nbformat_minor": 2
}
